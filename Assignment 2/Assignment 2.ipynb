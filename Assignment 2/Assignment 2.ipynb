{
 "cells": [
  {
   "cell_type": "code",
   "execution_count": 1,
   "metadata": {},
   "outputs": [],
   "source": [
    "import pandas as pd"
   ]
  },
  {
   "cell_type": "code",
   "execution_count": 2,
   "metadata": {},
   "outputs": [],
   "source": [
    "import mysql.connector\n",
    "\n",
    "mydb = mysql.connector.connect(\n",
    "  host=\"127.0.0.1\",\n",
    "  user=\"root\",\n",
    "  passwd=\"harshil\",\n",
    "  database = 'test2'\n",
    ")"
   ]
  },
  {
   "cell_type": "code",
   "execution_count": 3,
   "metadata": {},
   "outputs": [],
   "source": [
    "cur = mydb.cursor(dictionary = True,buffered = True)"
   ]
  },
  {
   "cell_type": "code",
   "execution_count": 4,
   "metadata": {},
   "outputs": [
    {
     "name": "stdout",
     "output_type": "stream",
     "text": [
      "{'Tables_in_test2': 'cart'}\n",
      "{'Tables_in_test2': 'delivery'}\n",
      "{'Tables_in_test2': 'diwali_deals'}\n",
      "{'Tables_in_test2': 'past_orders'}\n",
      "{'Tables_in_test2': 'product_books'}\n",
      "{'Tables_in_test2': 'product_elec'}\n",
      "{'Tables_in_test2': 'product_furn'}\n",
      "{'Tables_in_test2': 'products'}\n",
      "{'Tables_in_test2': 'registered_users'}\n",
      "{'Tables_in_test2': 'retailer'}\n",
      "{'Tables_in_test2': 'search_history'}\n"
     ]
    }
   ],
   "source": [
    "cur.execute(\"USE test2\")\n",
    "cur.execute(\"SHOW TABLES;\")\n",
    "res = cur.fetchall()\n",
    "for x in res:\n",
    "    print(x)"
   ]
  },
  {
   "cell_type": "code",
   "execution_count": 31,
   "metadata": {},
   "outputs": [
    {
     "name": "stdout",
     "output_type": "stream",
     "text": [
      "    Cust_Name           Mail_ID    Pass    Reg_Date  User_I\n",
      "0      Rakesh   cust3@gmail.com   klmno  2019-06-08      51\n",
      "1       Raman   cust6@gmail.com   kuhjy  2015-06-07      55\n",
      "2     Harshil    cust@gmail.com   abcde  2001-02-01     101\n",
      "3       Rohit   cust9@gmail.com   kuhjy  2016-06-14     365\n",
      "4   Anonymous              None    None  2014-06-04     384\n",
      "5    Sangeeta  cust11@gmail.com  kiujhy  2019-04-18     487\n",
      "6      Kartik  cust10@gmail.com   kuhjy  2018-04-17     489\n",
      "7       Abhay   cust8@gmail.com   kuhjy  2019-11-15     657\n",
      "8       Komal   cust5@gmail.com   uvwxy  2017-11-15     687\n",
      "9         Sam   cust2@gmail.com   fghij  2008-08-06     967\n",
      "10    Kaushal   cust7@gmail.com   kuhjy  2014-03-08     987\n"
     ]
    }
   ],
   "source": [
    "# Q2\n",
    "\n",
    "def q2(val):\n",
    "    query1 = \"update registered_users set Cust_Name = 'Anonymous',Mail_ID = NULL,Pass = NULL where User_I = %s;\"\n",
    "    cur.execute(query1,(val,))\n",
    "    query2 = \"update past_orders set Rating = NULL,Review = NULL where User_I = %s;\"\n",
    "    cur.execute(query2,(val,))\n",
    "    query3 = \"delete from cart where User_I = %s;\"\n",
    "    cur.execute(query3,(val,))\n",
    "    query4 = \"delete from delivery where User_I = %s;\"\n",
    "    cur.execute(query4,(val,))\n",
    "    query5 = \"delete from search_history where User_I = %s;\"\n",
    "    cur.execute(query5,(val,))\n",
    "    cur.execute(\"select * from registered_users\")\n",
    "    res = cur.fetchall()\n",
    "    print(pd.DataFrame(res))\n",
    "q2(384)"
   ]
  },
  {
   "cell_type": "code",
   "execution_count": 6,
   "metadata": {},
   "outputs": [
    {
     "name": "stdout",
     "output_type": "stream",
     "text": [
      "   Date_when_added   Price Product_Description  Product_ID  \\\n",
      "0       2017-03-24   49410                None          51   \n",
      "1       2018-03-02    5200                None         101   \n",
      "2       2020-02-06    1500                None         102   \n",
      "3       2019-09-19    3050                None         103   \n",
      "4       2016-07-18    7500                None         104   \n",
      "5       2020-02-03     500                None         105   \n",
      "6       2020-01-01   23490                None         107   \n",
      "7       2018-03-02   42120                None         108   \n",
      "8       2018-08-04   16000                None         109   \n",
      "9       2019-06-30   90000                None         110   \n",
      "10      2020-02-01  120000                None         111   \n",
      "11      2019-12-31   10000                None         112   \n",
      "12      2019-04-01   28000                None         113   \n",
      "13      2018-11-09   15600                None         114   \n",
      "14      2019-10-01   11745                None         115   \n",
      "15      2018-11-05    1200                None         116   \n",
      "16      2005-02-01    5412                None         117   \n",
      "17      2016-08-04    2450                None         118   \n",
      "18      2018-03-05    1456                None         119   \n",
      "19      2017-09-16    1987                None         120   \n",
      "20      2019-06-30    2000                None         121   \n",
      "21      2020-02-01    5000                None         122   \n",
      "22      2019-12-31   16200                None         123   \n",
      "23      2019-04-01   43740                None         124   \n",
      "24      2018-11-09   19683                None         125   \n",
      "25      2018-11-05    1000                None         126   \n",
      "26      2005-02-01    2000                None         127   \n",
      "27      2016-08-04    3000                None         128   \n",
      "28      2018-03-05    4500                None         129   \n",
      "29      2017-09-16    5265                None         130   \n",
      "\n",
      "            Product_Name Product_Type  Quantity_left Retailer_Name  \n",
      "0   Dell Inspiron Laptop  Electronics             15          lkea  \n",
      "1        The Lost Symbol         Book             10          lkea  \n",
      "2           Harry Porter         Book             12           ram  \n",
      "3         The Book Thief         Book              5           ram  \n",
      "4      The Ends of World         Book             15        ramesh  \n",
      "5     Living with a Seal         Book             34         abhay  \n",
      "6      Oracle Smartphone  Electronics              2          lkea  \n",
      "7     HP Pavilion Laptop  Electronics             12          yash  \n",
      "8            Vivo Z1 Pro  Electronics             50        ramesh  \n",
      "9      Apple Macbook Air  Electronics             14         abhay  \n",
      "10                  Sofa    Furniture             16          yash  \n",
      "11              Armchair    Furniture             18           ram  \n",
      "12                   Bed    Furniture             16        ramesh  \n",
      "13                Cradle    Furniture             24          lkea  \n",
      "14                 Table    Furniture              1         abhay  \n",
      "15           Start Again         Book              5         abhay  \n",
      "16        Lost in Battle         Book              4           ram  \n",
      "17          Perfect Fake         Book              6        ramesh  \n",
      "18      Elegantly Wasted         Book             15           ram  \n",
      "19            Hate Burns         Book             25          yash  \n",
      "20          Redmi Note 7  Electronics             15         abhay  \n",
      "21         Asus Predator  Electronics             14           ram  \n",
      "22           Asus Laptop  Electronics             12        ramesh  \n",
      "23        HP Omen Laptop  Electronics              9           ram  \n",
      "24           Motorola Z5  Electronics             11          yash  \n",
      "25               Cabinet    Furniture             17         abhay  \n",
      "26            Game Table    Furniture             16           ram  \n",
      "27            Deck Chair    Furniture             18        ramesh  \n",
      "28             Hall Tree    Furniture             15           ram  \n",
      "29               Big Bed    Furniture             20          yash  \n"
     ]
    }
   ],
   "source": [
    "# Q3\n",
    "def q3(val1,val2):\n",
    "    query = \"update products set Price = %s*Price where Product_ID in (select Product_ID from  (select T.Product_Id, views, Price from  (select Product_ID, count(*) as views from search_history group by Product_ID) as T  join products on T.Product_ID = products.Product_ID) as R where R.views<10 and R.Price>%s);\"\n",
    "    cur.execute(query,(val1,val2))\n",
    "    cur.execute(\"select * from products;\")\n",
    "    res = cur.fetchall()\n",
    "    print(pd.DataFrame(res))\n",
    "q3(0.9,5000)"
   ]
  },
  {
   "cell_type": "code",
   "execution_count": 30,
   "metadata": {},
   "outputs": [
    {
     "name": "stdout",
     "output_type": "stream",
     "text": [
      "         City Delivery_Address  Ind  User_I\n",
      "0      Mumbai            bcgvc    1     101\n",
      "1     Kolkata           behbeh    3      51\n",
      "2     Chennai           cjfbhf    4     967\n",
      "3      Mumbai          cecneun    5     687\n",
      "4      Mumbai         jirbbfkb    6      55\n",
      "5       Delhi         ehfbdjsd    7     987\n",
      "6     Kolkata         vhbvhrbh    8     657\n",
      "7     Chennai          ndjfhsb    9     365\n",
      "8      Mumbai          hvrbhjf   10     489\n",
      "9     Lucknow      chdbfuyebfy   11     101\n",
      "10  Ahemdabad      yrbvgbrfubf   12     101\n"
     ]
    }
   ],
   "source": [
    "# Q4\n",
    "def q4(v1,v2,v3,v4,v5,v6,v7,v8):\n",
    "    query = \"INSERT INTO delivery(Ind,User_I,Delivery_Address,City) VALUES (%s,%s,%s,%s);\"\n",
    "    cur.execute(query,(v1,v2,v3,v4))\n",
    "    query1 = \"INSERT INTO delivery(Ind,User_I,Delivery_Address,City) VALUES (%s,%s,%s,%s);\"\n",
    "    cur.execute(query1,(v5,v6,v7,v8))\n",
    "    cur.execute(\"select * from delivery\")\n",
    "    res = cur.fetchall()\n",
    "    print(pd.DataFrame(res))\n",
    "q4(11,101,'chdbfuyebfy','Lucknow',12,101,'yrbvgbrfubf','Ahemdabad')"
   ]
  },
  {
   "cell_type": "code",
   "execution_count": 8,
   "metadata": {},
   "outputs": [
    {
     "name": "stdout",
     "output_type": "stream",
     "text": [
      "              Mail Retailer_Name\n",
      "0    xyz@gmail.com           ram\n",
      "1  user2@gmail.com         abhay\n",
      "2  user7@gmail.com        harish\n"
     ]
    }
   ],
   "source": [
    "# Q5\n",
    "def q5(value):\n",
    "    query = \"select Retailer_Name,Mail from retailer where City = %s;\"\n",
    "    cur.execute(query,(value,))\n",
    "    res = cur.fetchall()\n",
    "    print(pd.DataFrame(res))\n",
    "q5('Delhi')"
   ]
  },
  {
   "cell_type": "code",
   "execution_count": 9,
   "metadata": {},
   "outputs": [
    {
     "name": "stdout",
     "output_type": "stream",
     "text": [
      "  Cust_Name          Mail_ID  User_I\n",
      "0   Harshil   cust@gmail.com     101\n",
      "1     Komal  cust5@gmail.com     687\n",
      "2     Raman  cust6@gmail.com      55\n"
     ]
    }
   ],
   "source": [
    "# Q6\n",
    "def q6():\n",
    "    cur.execute(\"select DISTINCT Mail_ID,T.User_I,R.Cust_Name from (select User_I,SUM(Total_Amount) as Total from past_orders group by User_I having Total>=5000) as T join (select User_I,Mail_ID,City,Cust_Name from registered_users natural join delivery) as R on T.User_I = R.User_I where City = 'Mumbai'\")\n",
    "    res = cur.fetchall()\n",
    "    print(pd.DataFrame(res))\n",
    "q6()"
   ]
  },
  {
   "cell_type": "code",
   "execution_count": 11,
   "metadata": {},
   "outputs": [
    {
     "name": "stdout",
     "output_type": "stream",
     "text": [
      "        Product_Name\n",
      "0  Oracle Smartphone\n",
      "1  Apple Macbook Air\n",
      "2             Cradle\n",
      "3              Table\n",
      "4     Lost in Battle\n",
      "5   Elegantly Wasted\n",
      "6         Game Table\n"
     ]
    }
   ],
   "source": [
    "# Q7\n",
    "def q7():\n",
    "    cur.execute(\"select Product_Name from products  where Product_Name like '%le%'\")\n",
    "    res = cur.fetchall()\n",
    "    print(pd.DataFrame(res))\n",
    "q7()"
   ]
  },
  {
   "cell_type": "code",
   "execution_count": 13,
   "metadata": {},
   "outputs": [
    {
     "name": "stdout",
     "output_type": "stream",
     "text": [
      "   Order_ID  Product_ID          Product_Name Purchase_Date  User_I\n",
      "0      1000          51  Dell Inspiron Laptop    2019-02-01     101\n",
      "1      1000         108    HP Pavilion Laptop    2017-06-24     101\n",
      "2      1009         107     Oracle Smartphone    2016-06-19     101\n"
     ]
    }
   ],
   "source": [
    "# Q8\n",
    "def q8():\n",
    "    cur.execute(\"select User_I,T.Product_ID,Order_ID,Purchase_Date, Product_Name from (select User_I,Product_ID,Order_ID,Purchase_Date from past_orders where User_I = (select User_I from registered_users order by Reg_Date LIMIT 1)) as T join products on T.Product_ID = products.Product_ID\")\n",
    "    res = cur.fetchall()\n",
    "    print(pd.DataFrame(res))\n",
    "q8()"
   ]
  },
  {
   "cell_type": "code",
   "execution_count": 15,
   "metadata": {},
   "outputs": [
    {
     "name": "stdout",
     "output_type": "stream",
     "text": [
      "   Product_ID          Product_Name  User_I\n",
      "0          51  Dell Inspiron Laptop     967\n",
      "1         107     Oracle Smartphone     967\n"
     ]
    }
   ],
   "source": [
    "# Q9\n",
    "def q9():\n",
    "    cur.execute(\"select User_I,T.Product_ID,Product_Name from (select User_I,Product_ID from cart where User_I = (select User_I from registered_users order by Reg_Date LIMIT 1 OFFSET 1)) as T join products on T.Product_ID = products.Product_ID\")\n",
    "    res = cur.fetchall()\n",
    "    print(pd.DataFrame(res))\n",
    "q9()"
   ]
  },
  {
   "cell_type": "code",
   "execution_count": 16,
   "metadata": {},
   "outputs": [
    {
     "name": "stdout",
     "output_type": "stream",
     "text": [
      "           Book_Name\n",
      "0       Harry Porter\n",
      "1     Lost in Battle\n",
      "2     The Book Thief\n",
      "3  The Ends of World\n"
     ]
    }
   ],
   "source": [
    "# Q10\n",
    "def q10(value):\n",
    "    query = \"select Book_Name from product_books where Year_Published > %s\"\n",
    "    cur.execute(query,(value,))\n",
    "    res = cur.fetchall()\n",
    "    print(pd.DataFrame(res))\n",
    "q10('2001')"
   ]
  },
  {
   "cell_type": "code",
   "execution_count": 17,
   "metadata": {},
   "outputs": [
    {
     "name": "stdout",
     "output_type": "stream",
     "text": [
      "   Price Product_Name Product_Type\n",
      "0  16000  Vivo Z1 Pro  Electronics\n",
      "1  16200  Asus Laptop  Electronics\n",
      "2  19683  Motorola Z5  Electronics\n"
     ]
    }
   ],
   "source": [
    "# Q11\n",
    "def q11(val1,val2,val3):\n",
    "    query = \"select Product_Type,Product_Name,Price from products  where Price between %s and %s and Product_Type = %s;\"\n",
    "    val1 = '10000'\n",
    "    val2 = '20000'\n",
    "    val3 = 'Electronics'\n",
    "    cur.execute(query,(val1,val2,val3))\n",
    "    res = cur.fetchall()\n",
    "    print(pd.DataFrame(res))\n",
    "q11('10000','20000','Electronics')"
   ]
  },
  {
   "cell_type": "code",
   "execution_count": 18,
   "metadata": {
    "scrolled": true
   },
   "outputs": [
    {
     "name": "stdout",
     "output_type": "stream",
     "text": [
      "   Product_ID Product_Name\n",
      "0         114       Cradle\n"
     ]
    }
   ],
   "source": [
    "# Q12\n",
    "def q12(val1,val2):\n",
    "    query = \"select Product_ID,Product_Name from products where Retailer_Name = %s and Product_Type = %s\"\n",
    "    cur.execute(query,(val1,val2))\n",
    "    res = cur.fetchall()\n",
    "    print(pd.DataFrame(res))\n",
    "q12('lkea','Furniture')"
   ]
  },
  {
   "cell_type": "code",
   "execution_count": 19,
   "metadata": {},
   "outputs": [
    {
     "name": "stdout",
     "output_type": "stream",
     "text": [
      "  Category  Price  Product_ID          Product_Name\n",
      "0   Laptop   5000         122         Asus Predator\n",
      "1   Laptop  16200         123           Asus Laptop\n",
      "2   Laptop  42120         108    HP Pavilion Laptop\n",
      "3   Laptop  43740         124        HP Omen Laptop\n",
      "4   Laptop  49410          51  Dell Inspiron Laptop\n",
      "5   Laptop  90000         110     Apple Macbook Air\n"
     ]
    }
   ],
   "source": [
    "# Q13\n",
    "def q13(val1):\n",
    "    query = \"select T.Product_ID, T.Product_Name, Category, Price from (select Product_ID,Product_Name,Category from product_elec where Category = %s) as T  join products on T.Product_ID = products.Product_ID order by Price\"\n",
    "    cur.execute(query,(val1,))\n",
    "    res = cur.fetchall()\n",
    "    print(pd.DataFrame(res))\n",
    "q13('Laptop')"
   ]
  },
  {
   "cell_type": "code",
   "execution_count": 20,
   "metadata": {},
   "outputs": [
    {
     "name": "stdout",
     "output_type": "stream",
     "text": [
      "         Product_Name\n",
      "0        Harry Porter\n",
      "1      The Book Thief\n",
      "2  Living with a Seal\n",
      "3   Oracle Smartphone\n",
      "4                Sofa\n",
      "5            Armchair\n",
      "6               Table\n",
      "7       Asus Predator\n",
      "8         Asus Laptop\n"
     ]
    }
   ],
   "source": [
    "# Q14\n",
    "def q14(val):\n",
    "    query = \"select Product_Name from products where Date_when_added > %s\"\n",
    "    cur.execute(query,(val,))\n",
    "    res = cur.fetchall()\n",
    "    print(pd.DataFrame(res))\n",
    "q14('2019-07-27')"
   ]
  },
  {
   "cell_type": "code",
   "execution_count": 21,
   "metadata": {},
   "outputs": [
    {
     "name": "stdout",
     "output_type": "stream",
     "text": [
      "        Book_Name\n",
      "0  The Book Thief\n"
     ]
    }
   ],
   "source": [
    "# Q15\n",
    "def q15(val):\n",
    "    query = \"select Book_Name from product_books where Author=%s\"\n",
    "    cur.execute(query,(val,))\n",
    "    res = cur.fetchall()\n",
    "    print(pd.DataFrame(res))\n",
    "q15('Franz Kafka')"
   ]
  },
  {
   "cell_type": "code",
   "execution_count": 22,
   "metadata": {},
   "outputs": [
    {
     "name": "stdout",
     "output_type": "stream",
     "text": [
      "           Mail_ID  User_I\n",
      "0   cust@gmail.com     101\n",
      "1  cust3@gmail.com      51\n"
     ]
    }
   ],
   "source": [
    "# Q16\n",
    "def q16(val):\n",
    "    query = \"select User_I,Mail_ID from cart natural join registered_users where Quantity < %s\"\n",
    "    cur.execute(query,(val,))\n",
    "    res = cur.fetchall()\n",
    "    print(pd.DataFrame(res))\n",
    "q16(3)"
   ]
  },
  {
   "cell_type": "code",
   "execution_count": 23,
   "metadata": {},
   "outputs": [
    {
     "name": "stdout",
     "output_type": "stream",
     "text": [
      "   Order_ID quantity\n",
      "0      1000        6\n"
     ]
    }
   ],
   "source": [
    "# Q17 Interpretation 1: Ordering by the quantity of each of the products within a specific Order_ID\n",
    "def q17():\n",
    "    cur.execute(\"select Order_ID, sum(Quantity) as quantity from past_orders group by Order_ID order by quantity desc LIMIT 1\")\n",
    "    res = cur.fetchall()\n",
    "    print(pd.DataFrame(res))\n",
    "q17()"
   ]
  },
  {
   "cell_type": "code",
   "execution_count": 24,
   "metadata": {},
   "outputs": [
    {
     "name": "stdout",
     "output_type": "stream",
     "text": [
      "   Order_ID  total_no_of_products\n",
      "0      1000                     2\n"
     ]
    }
   ],
   "source": [
    "# Q17 Interpretation 2: Ordering by the total unique number of products within a specific Order_ID\n",
    "def q17():\n",
    "    cur.execute(\"select Order_ID, COUNT(*) as total_no_of_products from past_orders group by Order_ID order by total_no_of_products desc LIMIT 1\")\n",
    "    res = cur.fetchall()\n",
    "    print(pd.DataFrame(res))\n",
    "q17()"
   ]
  },
  {
   "cell_type": "code",
   "execution_count": 25,
   "metadata": {},
   "outputs": [
    {
     "name": "stdout",
     "output_type": "stream",
     "text": [
      "         Product_Name\n",
      "0        Harry Porter\n",
      "1  Living with a Seal\n",
      "2                Sofa\n",
      "3       Asus Predator\n"
     ]
    }
   ],
   "source": [
    "# Q18\n",
    "def q18(val):\n",
    "    query = \"select Product_Name from products where Date_when_added > %s\"\n",
    "    cur.execute(query,(val,))\n",
    "    res = cur.fetchall()\n",
    "    print(pd.DataFrame(res))\n",
    "q18('2020-01-30')"
   ]
  },
  {
   "cell_type": "code",
   "execution_count": 26,
   "metadata": {},
   "outputs": [
    {
     "name": "stdout",
     "output_type": "stream",
     "text": [
      "   Retailer_ID\n",
      "0            1\n",
      "1            3\n"
     ]
    }
   ],
   "source": [
    "# Q19\n",
    "def q19(val):\n",
    "    query = \"select Retailer_ID from products natural join past_orders natural join retailer where User_I = %s\"\n",
    "    cur.execute(query,(val,))\n",
    "    res = cur.fetchall()\n",
    "    print(pd.DataFrame(res))\n",
    "q19(55)"
   ]
  },
  {
   "cell_type": "code",
   "execution_count": 28,
   "metadata": {
    "scrolled": true
   },
   "outputs": [
    {
     "name": "stdout",
     "output_type": "stream",
     "text": [
      "   Date_when_added   Price Product_Description  Product_ID  \\\n",
      "0       2017-03-24   49410                None          51   \n",
      "1       2018-03-02    5200                None         101   \n",
      "2       2020-02-06    1425                None         102   \n",
      "3       2019-09-19    3050                None         103   \n",
      "4       2016-07-18    7500                None         104   \n",
      "5       2020-02-03     475                None         105   \n",
      "6       2020-01-01   22316                None         107   \n",
      "7       2018-03-02   42120                None         108   \n",
      "8       2018-08-04   16000                None         109   \n",
      "9       2019-06-30   90000                None         110   \n",
      "10      2020-02-01  114000                None         111   \n",
      "11      2019-12-31    9500                None         112   \n",
      "12      2019-04-01   28000                None         113   \n",
      "13      2018-11-09   15600                None         114   \n",
      "14      2019-10-01   11745                None         115   \n",
      "15      2018-11-05    1200                None         116   \n",
      "16      2005-02-01    5412                None         117   \n",
      "17      2016-08-04    2450                None         118   \n",
      "18      2018-03-05    1456                None         119   \n",
      "19      2017-09-16    1987                None         120   \n",
      "20      2019-06-30    2000                None         121   \n",
      "21      2020-02-01    4750                None         122   \n",
      "22      2019-12-31   15390                None         123   \n",
      "23      2019-04-01   43740                None         124   \n",
      "24      2018-11-09   19683                None         125   \n",
      "25      2018-11-05    1000                None         126   \n",
      "26      2005-02-01    2000                None         127   \n",
      "27      2016-08-04    3000                None         128   \n",
      "28      2018-03-05    4500                None         129   \n",
      "29      2017-09-16    5265                None         130   \n",
      "\n",
      "            Product_Name Product_Type  Quantity_left Retailer_Name  \n",
      "0   Dell Inspiron Laptop  Electronics             15          lkea  \n",
      "1        The Lost Symbol         Book             10          lkea  \n",
      "2           Harry Porter         Book             12           ram  \n",
      "3         The Book Thief         Book              5           ram  \n",
      "4      The Ends of World         Book             15        ramesh  \n",
      "5     Living with a Seal         Book             34         abhay  \n",
      "6      Oracle Smartphone  Electronics              2          lkea  \n",
      "7     HP Pavilion Laptop  Electronics             12          yash  \n",
      "8            Vivo Z1 Pro  Electronics             50        ramesh  \n",
      "9      Apple Macbook Air  Electronics             14         abhay  \n",
      "10                  Sofa    Furniture             16          yash  \n",
      "11              Armchair    Furniture             18           ram  \n",
      "12                   Bed    Furniture             16        ramesh  \n",
      "13                Cradle    Furniture             24          lkea  \n",
      "14                 Table    Furniture              1         abhay  \n",
      "15           Start Again         Book              5         abhay  \n",
      "16        Lost in Battle         Book              4           ram  \n",
      "17          Perfect Fake         Book              6        ramesh  \n",
      "18      Elegantly Wasted         Book             15           ram  \n",
      "19            Hate Burns         Book             25          yash  \n",
      "20          Redmi Note 7  Electronics             15         abhay  \n",
      "21         Asus Predator  Electronics             14           ram  \n",
      "22           Asus Laptop  Electronics             12        ramesh  \n",
      "23        HP Omen Laptop  Electronics              9           ram  \n",
      "24           Motorola Z5  Electronics             11          yash  \n",
      "25               Cabinet    Furniture             17         abhay  \n",
      "26            Game Table    Furniture             16           ram  \n",
      "27            Deck Chair    Furniture             18        ramesh  \n",
      "28             Hall Tree    Furniture             15           ram  \n",
      "29               Big Bed    Furniture             20          yash  \n"
     ]
    }
   ],
   "source": [
    "# Q20\n",
    "\n",
    "def q20(val1,val2):\n",
    "    cur.execute(\"DROP TABLE Diwali_Deals\")\n",
    "    cur.execute(\"CREATE TABLE Diwali_Deals select * from products;\")\n",
    "    cur.execute(\"select * from Diwali_Deals\")\n",
    "    query = \"update Diwali_Deals set Price = %s * Price where Date_when_added > %s;\"\n",
    "    cur.execute(query,(val1,val2))\n",
    "    cur.execute(\"select * from Diwali_Deals\")\n",
    "    res = cur.fetchall()\n",
    "    print(pd.DataFrame(res))\n",
    "q20(0.95,'2019-12-08')"
   ]
  }
 ],
 "metadata": {
  "kernelspec": {
   "display_name": "Python 3",
   "language": "python",
   "name": "python3"
  },
  "language_info": {
   "codemirror_mode": {
    "name": "ipython",
    "version": 3
   },
   "file_extension": ".py",
   "mimetype": "text/x-python",
   "name": "python",
   "nbconvert_exporter": "python",
   "pygments_lexer": "ipython3",
   "version": "3.6.7"
  }
 },
 "nbformat": 4,
 "nbformat_minor": 2
}
